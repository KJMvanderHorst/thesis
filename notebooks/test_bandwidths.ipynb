{
 "cells": [
  {
   "cell_type": "code",
   "execution_count": 1,
   "id": "c4b3d5c4",
   "metadata": {},
   "outputs": [],
   "source": [
    "import numpy as np\n",
    "import matplotlib.pyplot as plt\n",
    "from src.data.signals_bandwidth import compute_bandwidths"
   ]
  },
  {
   "cell_type": "code",
   "execution_count": null,
   "id": "adc15ca7",
   "metadata": {},
   "outputs": [
    {
     "name": "stdout",
     "output_type": "stream",
     "text": [
      "Loaded dataset with 10000 signals, each of length 1000.\n"
     ]
    }
   ],
   "source": [
    "# Constants\n",
    "SAMPLING_RATE = 1000  # Ensure this matches the value in signals_bandwidth.py\n",
    "\n",
    "# Load the dataset\n",
    "dataset_path = \"/Users/kaspervanderhorst/Desktop/thesis/src/data/data_storage/composite_signals_20250512T203403.npz\"\n",
    "data = np.load(dataset_path)\n",
    "signals = data['composite_signals']  # Shape: [n_signals, signal_length]\n",
    "\n",
    "print(f\"Loaded dataset with {signals.shape[0]} signals, each of length {signals.shape[1]}.\")\n",
    "\n",
    "# Compute bandwidths\n",
    "target_bands = 2  # Number of frequency bands to detect\n",
    "sigma = 1.0       # Gaussian smoothing parameter\n",
    "bandwidths = compute_bandwidths(signals, target_bands=target_bands, sigma=sigma)\n",
    "\n",
    "# Visualize the results for a selected range of signals\n",
    "start_index = 0  # Start index of the range\n",
    "    # Compute FFT for visualization\n",
    "    n = len(signal)\n",
    "    freqs = np.fft.fftfreq(n, 1 / SAMPLING_RATE)[:n // 2]\n",
    "    fft_magnitude = np.abs(np.fft.fft(signal))[:n // 2]\n",
    "\n",
    "    # Plot the signal\n",
    "    plt.figure(figsize=(12, 6))\n",
    "    plt.subplot(2, 1, 1)\n",
    "    plt.plot(signal)\n",
    "    plt.title(f\"Signal {i + 1}\")\n",
    "    plt.xlabel(\"Time\")\n",
    "    plt.ylabel(\"Amplitude\")\n",
    "\n",
    "    # Plot the FFT magnitude spectrum with detected bands\n",
    "    plt.subplot(2, 1, 2)\n",
    "    plt.plot(freqs, fft_magnitude, label=\"FFT Magnitude\")\n",
    "    for fmin, fmax in bands:\n",
    "        plt.axvspan(fmin, fmax, color='red', alpha=0.3, label=f\"Band: {fmin:.1f}-{fmax:.1f} Hz\")\n",
    "    plt.title(f\"FFT Magnitude Spectrum (Signal {i + 1})\")\n",
    "    plt.xlabel(\"Frequency (Hz)\")\n",
    "    plt.ylabel(\"Magnitude\")\n",
    "    plt.legend()\n",
    "\n",
    "    plt.tight_layout()\n",
    "    plt.show()"
   ]
  },
  {
   "cell_type": "code",
   "execution_count": null,
   "id": "8462e9a4",
   "metadata": {},
   "outputs": [
    {
     "ename": "ValueError",
     "evalue": "The truth value of an array with more than one element is ambiguous. Use a.any() or a.all()",
     "output_type": "error",
     "traceback": [
      "\u001b[31m---------------------------------------------------------------------------\u001b[39m",
      "\u001b[31mValueError\u001b[39m                                Traceback (most recent call last)",
      "\u001b[36mCell\u001b[39m\u001b[36m \u001b[39m\u001b[32mIn[4]\u001b[39m\u001b[32m, line 2\u001b[39m\n\u001b[32m      1\u001b[39m \u001b[38;5;66;03m# Visualize the results\u001b[39;00m\n\u001b[32m----> \u001b[39m\u001b[32m2\u001b[39m \u001b[38;5;28;01mfor\u001b[39;00m i \u001b[38;5;129;01min\u001b[39;00m \u001b[38;5;28mrange\u001b[39m(\u001b[32m1\u001b[39m,\u001b[32m5\u001b[39m), \u001b[43m(\u001b[49m\u001b[43msignal\u001b[49m\u001b[43m,\u001b[49m\u001b[43m \u001b[49m\u001b[43mbands\u001b[49m\u001b[43m)\u001b[49m\u001b[43m \u001b[49m\u001b[38;5;129;43;01min\u001b[39;49;00m\u001b[43m \u001b[49m\u001b[38;5;28;43menumerate\u001b[39;49m\u001b[43m(\u001b[49m\u001b[38;5;28;43mzip\u001b[39;49m\u001b[43m(\u001b[49m\u001b[43msignals\u001b[49m\u001b[43m,\u001b[49m\u001b[43m \u001b[49m\u001b[43mbandwidths\u001b[49m\u001b[43m)\u001b[49m\u001b[43m)\u001b[49m:\n\u001b[32m      3\u001b[39m     \u001b[38;5;66;03m# Compute FFT for visualization\u001b[39;00m\n\u001b[32m      4\u001b[39m     n = \u001b[38;5;28mlen\u001b[39m(signal)\n\u001b[32m      5\u001b[39m     freqs = np.fft.fftfreq(n, \u001b[32m1\u001b[39m / SAMPLING_RATE)[:n // \u001b[32m2\u001b[39m]\n",
      "\u001b[31mValueError\u001b[39m: The truth value of an array with more than one element is ambiguous. Use a.any() or a.all()"
     ]
    }
   ],
   "source": []
  },
  {
   "cell_type": "code",
   "execution_count": null,
   "id": "40f150d6",
   "metadata": {},
   "outputs": [],
   "source": []
  }
 ],
 "metadata": {
  "kernelspec": {
   "display_name": "venv",
   "language": "python",
   "name": "python3"
  },
  "language_info": {
   "codemirror_mode": {
    "name": "ipython",
    "version": 3
   },
   "file_extension": ".py",
   "mimetype": "text/x-python",
   "name": "python",
   "nbconvert_exporter": "python",
   "pygments_lexer": "ipython3",
   "version": "3.12.7"
  }
 },
 "nbformat": 4,
 "nbformat_minor": 5
}
